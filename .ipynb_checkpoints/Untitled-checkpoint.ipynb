{
 "cells": [
  {
   "cell_type": "code",
   "execution_count": 17,
   "metadata": {
    "collapsed": true
   },
   "outputs": [],
   "source": [
    "%matplotlib inline\n",
    "\n",
    "import matplotlib.patches as mpatches\n",
    "import matplotlib.pyplot as plt\n",
    "import numpy as np\n",
    "\n",
    "from mltools.utils import bootstrapData,crossValidate,splitData\n",
    "from sklearn import preprocessing as pp\n",
    "from sklearn import svm\n",
    "from sklearn.metrics import mean_squared_error as mse\n",
    "\n",
    "X = np.genfromtxt('data/kaggle.X1.train.txt', delimiter=',')\n",
    "Y = np.genfromtxt('data/kaggle.Y.train.txt', delimiter=',')\n",
    "Xs = pp.scale(X)"
   ]
  },
  {
   "cell_type": "markdown",
   "metadata": {},
   "source": [
    "#### Messing with `max_iter`\n",
    "\n",
    "Initially started messing with the `max_iter` parameter, which forcibly stops optimization after `max_iter` iterations.  Tuning this parameter is less about complexity tradeoffs and more about computational tradeoffs.  It seems that the largest value of `max_iter` that is still compuationally reasonable is $\\approx 75,000$."
   ]
  },
  {
   "cell_type": "markdown",
   "metadata": {},
   "source": [
    "#### Baseline for Performance"
   ]
  },
  {
   "cell_type": "code",
   "execution_count": 3,
   "metadata": {
    "collapsed": false
   },
   "outputs": [
    {
     "name": "stdout",
     "output_type": "stream",
     "text": [
      "0.545641657147\n"
     ]
    },
    {
     "name": "stderr",
     "output_type": "stream",
     "text": [
      "/Library/Frameworks/Python.framework/Versions/3.4/lib/python3.4/site-packages/sklearn/svm/base.py:209: ConvergenceWarning: Solver terminated early (max_iter=75000).  Consider pre-processing your data with StandardScaler or MinMaxScaler.\n",
      "  % self.max_iter, ConvergenceWarning)\n"
     ]
    }
   ],
   "source": [
    "Xb,Yb = bootstrapData(Xs, Y, 60000)\n",
    "Xtr,Xte,Ytr,Yte = splitData(Xb, Yb, 0.75)\n",
    "l = svm.SVR(C=0.5, kernel='linear', max_iter=75000)\n",
    "l.fit(Xtr, Ytr)\n",
    "Yhat = l.predict(Xte)\n",
    "\n",
    "print(mse(Yte, Yhat))"
   ]
  },
  {
   "cell_type": "markdown",
   "metadata": {
    "collapsed": true
   },
   "source": [
    "SVR trained on $45,000$ data points to get a baseline for performance.  Using a relatively small value of C makes the decision surface smooth, and therefore prevents overfitting (I think).  I experimented with various `max_iter` values.  Higher values of `max_iter` (obviously) caused MSE to be lower.  Currently using a \"simple\" linear kernel to get a baseline for predictor performance."
   ]
  },
  {
   "cell_type": "markdown",
   "metadata": {},
   "source": [
    "#### Messing with `C`"
   ]
  },
  {
   "cell_type": "code",
   "execution_count": 21,
   "metadata": {
    "collapsed": false
   },
   "outputs": [
    {
     "name": "stderr",
     "output_type": "stream",
     "text": [
      "/Library/Frameworks/Python.framework/Versions/3.4/lib/python3.4/site-packages/sklearn/svm/base.py:209: ConvergenceWarning: Solver terminated early (max_iter=75000).  Consider pre-processing your data with StandardScaler or MinMaxScaler.\n",
      "  % self.max_iter, ConvergenceWarning)\n"
     ]
    },
    {
     "data": {
      "text/plain": [
       "<matplotlib.text.Text at 0x127db52e8>"
      ]
     },
     "execution_count": 21,
     "metadata": {},
     "output_type": "execute_result"
    },
    {
     "data": {
      "image/png": "[encoded data removed]",
      "text/plain": [
       "<matplotlib.figure.Figure at 0x126bb5780>"
      ]
     },
     "metadata": {},
     "output_type": "display_data"
    }
   ],
   "source": [
    "# sampling a relatively small number of data to make exploration computationally feasible\n",
    "Xb,Yb = bootstrapData(Xs, Y, 10000)   \n",
    "Xtr,Xte,Ytr,Yte = splitData(Xb, Yb, 0.8)\n",
    "\n",
    "tr_mse,te_mse = [],[]\n",
    "cs = np.array(range(2, 20)) * 0.1\n",
    "for c in cs:\n",
    "    lrnr = svm.SVR(C=c, kernel='linear', max_iter=75000)\n",
    "    lrnr.fit(Xtr, Ytr)\n",
    "    tr_mse.append(mse(lrnr.predict(Xtr), Ytr))\n",
    "    te_mse.append(mse(lrnr.predict(Xte), Yte))\n",
    "    \n",
    "plt.plot(cs, tr_mse, color='red')\n",
    "plt.plot(cs, te_mse, color='green')\n",
    "\n",
    "red_line = mpatches.Patch(color='red', label='Training Error')\n",
    "green_line = mpatches.Patch(color='green', label='Testing Error')\n",
    "\n",
    "plt.legend(handles=[red_line, green_line])\n",
    "plt.ylabel('MSE')\n",
    "plt.xlabel('C (Error Penalty Parameter)')\n",
    "plt.suptitle('MSE vs C', fontsize=14, fontweight='bold')"
   ]
  },
  {
   "cell_type": "markdown",
   "metadata": {},
   "source": [
    "Trying various levels of C, just to get a sense of what kind of effect it has on predictions.  C is an error penalty, so a higher value of C encourages fewer errors, and therefore more model complexity.  Messing with C will likely be necessary as I start to use more complex kernel methods.\n",
    "\n",
    "After seeing the results of this experiment, it doesn't seem that increasing C is helping at the moment.  Again, I should probably wait until I actually need to control complexity.  $\\epsilon$ is another parameter that I can tweak to help with overfitting: it can control the number of support vectors that are used to construct the regression function.\n",
    "    \n",
    "Note: 10000 (8000) training examples still takes a really long time to train, so I'm going to cut this in half. "
   ]
  },
  {
   "cell_type": "markdown",
   "metadata": {},
   "source": [
    "#### Trying Different Kernels"
   ]
  },
  {
   "cell_type": "code",
   "execution_count": 40,
   "metadata": {
    "collapsed": false
   },
   "outputs": [
    {
     "name": "stderr",
     "output_type": "stream",
     "text": [
      "/Library/Frameworks/Python.framework/Versions/3.4/lib/python3.4/site-packages/sklearn/svm/base.py:209: ConvergenceWarning: Solver terminated early (max_iter=75000).  Consider pre-processing your data with StandardScaler or MinMaxScaler.\n",
      "  % self.max_iter, ConvergenceWarning)\n"
     ]
    },
    {
     "data": {
      "text/plain": [
       "[<matplotlib.text.Text at 0x104e878d0>,\n",
       " <matplotlib.text.Text at 0x10a621d30>,\n",
       " <matplotlib.text.Text at 0x1114f37b8>,\n",
       " <matplotlib.text.Text at 0x1114f7208>,\n",
       " <matplotlib.text.Text at 0x1114f7c18>]"
      ]
     },
     "execution_count": 40,
     "metadata": {},
     "output_type": "execute_result"
    },
    {
     "data": {
      "image/png": "[encoded data removed]",
      "text/plain": [
       "<matplotlib.figure.Figure at 0x106794cf8>"
      ]
     },
     "metadata": {},
     "output_type": "display_data"
    }
   ],
   "source": [
    "Xb,Yb = bootstrapData(Xs, Y, 10000)   \n",
    "Xtr,Xte,Ytr,Yte = splitData(Xb, Yb, 0.8)\n",
    "\n",
    "kernels = ['linear', 'poly', 'rbf', 'sigmoid']\n",
    "tr_mse,te_mse = [],[]\n",
    "\n",
    "for k in kernels:\n",
    "    lrnr = svm.SVR(kernel=k, max_iter=75000)\n",
    "    lrnr.fit(Xtr, Ytr)\n",
    "    tr_mse.append(mse(lrnr.predict(Xtr), Ytr))\n",
    "    te_mse.append(mse(lrnr.predict(Xte), Yte))\n",
    "    \n",
    "plt.plot(range(4), tr_mse, 'o', color='red')\n",
    "plt.plot(range(4), te_mse, 'o', color='green')\n",
    "\n",
    "red_points = mpatches.Patch(color='red', label='Training Error')\n",
    "green_points = mpatches.Patch(color='green', label='Testing Error')\n",
    "\n",
    "plt.legend(handles=[red_points, green_points])\n",
    "plt.ylabel('MSE')\n",
    "plt.xlabel('Kernels')\n",
    "plt.suptitle('MSE vs Kernels', fontsize=14, fontweight='bold')\n",
    "plt.gca().set_xlim([-1, 4])\n",
    "plt.gca().set_xticklabels(['', 'linear', 'poly', 'rbf', 'sigmoid'])"
   ]
  },
  {
   "cell_type": "markdown",
   "metadata": {},
   "source": [
    "Trying various kernel fucntions.  I need to do cross validation to get more numerically stable validation results.  The kernels have been performing consistently on the training data.  In contrast, the polynomial kernel has shown a significant amount of variation on test data: intially, it outperformed the linear kernel; after that, it's MSE was significantly higher than any of the other kernels.  On the third test, it outperformed the linear kernel again.  The poor performance of the polynomial kernel (or at least the potential for poor performance) on test data, when coupled with the fact that the polynomial kernel has consistently outperformed other kernels on training data, indicates that the polynomial kernel is prone to overfitting.  This isn't unexpected, and can perhaps be addressed using polynomial kernel paramters, as well as other parameters that affect complexity (`C` and `epsilon`).\n",
    "\n",
    "The RBF kernel has consistently outperformed the other kernel functions.  The Sigmoid kernel has consistenly performed more poorly than the other kernel fuctions.  The kernels to explore seem to be RBF and polynomial.  Perhaps I can explore the linear kernel if time permits."
   ]
  },
  {
   "cell_type": "markdown",
   "metadata": {},
   "source": [
    "#### Cross Validation on Different Kernels"
   ]
  },
  {
   "cell_type": "code",
   "execution_count": null,
   "metadata": {
    "collapsed": false
   },
   "outputs": [],
   "source": [
    "Xb,Yb = bootstrapData(Xs, Y, 10000)   \n",
    "kernels = ['linear', 'poly', 'rbf', 'sigmoid']\n",
    "splits = 5\n",
    "tr_mse,te_mse = np.zeros(splits),np.zeros(splits)\n",
    "\n",
    "for k in kernels:\n",
    "    for i in range(splits):\n",
    "        Xtr,Xte,Ytr,Yte = crossValidate(Xb, Yb, K=splits, i=i)\n",
    "        lrnr = svm.SVR(kernel=k, max_iter=75000)\n",
    "        lrnr.fit(Xtr, Ytr)\n",
    "        tr_mse[i] += mse(lrnr.predict(Xtr), Ytr)\n",
    "        te_mse[i] += mse(lrnr.predict(Xte), Yte)\n",
    "        \n",
    "tr_mse /= splits\n",
    "te_mse /= splits\n",
    "    \n",
    "plt.plot(range(splits), tr_mse, color='red')\n",
    "plt.plot(range(splits), te_mse, color='green')\n",
    "\n",
    "red_points = mpatches.Patch(color='red', label='Training Error')\n",
    "green_points = mpatches.Patch(color='green', label='Testing Error')\n",
    "\n",
    "red_points = mpatches.Patch(color='red', label='Training Error')\n",
    "green_points = mpatches.Patch(color='green', label='Testing Error')\n",
    "\n",
    "plt.legend(handles=[red_points, green_points])\n",
    "plt.ylabel('MSE')\n",
    "plt.xlabel('Kernels')\n",
    "plt.suptitle('MSE vs Kernels', fontsize=14, fontweight='bold')\n",
    "plt.gca().set_xlim([-1, 4])\n",
    "plt.gca().set_xticklabels(['', 'linear', 'poly', 'rbf', 'sigmoid'])"
   ]
  },
  {
   "cell_type": "markdown",
   "metadata": {},
   "source": [
    "The cross validation performed above is to confirm my intuitions about the performances of the individual kernels.  Again, it seems the polynomial kernel overfits--which makes sense, since it amounts to a polynomial feature transform (right?).  \n",
    "\n",
    "In the last test I performed, the sigmoid kernel outperformed the others, so it seems that my intuitions weren't entirely on track.  \n",
    "\n",
    "##### Ideas\n",
    "\n",
    "+ Run with particular kernels, identify weaknesses, and play with parameters\n",
    "+ Bags of SVMs?\n",
    "    + computationally, this won't be feasible, so I need to explore feature reduction techniques\n",
    "+ overfitting with a polynomial kernel and then using bagging to control complexity?\n",
    "    + again, may need to explore feature reduction\n",
    "    + will bagging be necessary with feature reduction?\n",
    "\n"
   ]
  },
  {
   "cell_type": "code",
   "execution_count": null,
   "metadata": {
    "collapsed": true
   },
   "outputs": [],
   "source": []
  },
  {
   "cell_type": "code",
   "execution_count": null,
   "metadata": {
    "collapsed": true
   },
   "outputs": [],
   "source": []
  },
  {
   "cell_type": "code",
   "execution_count": null,
   "metadata": {
    "collapsed": true
   },
   "outputs": [],
   "source": []
  },
  {
   "cell_type": "code",
   "execution_count": null,
   "metadata": {
    "collapsed": true
   },
   "outputs": [],
   "source": []
  },
  {
   "cell_type": "code",
   "execution_count": null,
   "metadata": {
    "collapsed": true
   },
   "outputs": [],
   "source": []
  }
 ],
 "metadata": {
  "kernelspec": {
   "display_name": "Python 3",
   "language": "python",
   "name": "python3"
  },
  "language_info": {
   "codemirror_mode": {
    "name": "ipython",
    "version": 3
   },
   "file_extension": ".py",
   "mimetype": "text/x-python",
   "name": "python",
   "nbconvert_exporter": "python",
   "pygments_lexer": "ipython3",
   "version": "3.4.3"
  }
 },
 "nbformat": 4,
 "nbformat_minor": 0
}
